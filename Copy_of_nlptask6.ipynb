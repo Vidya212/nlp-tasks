{
  "nbformat": 4,
  "nbformat_minor": 0,
  "metadata": {
    "colab": {
      "provenance": [],
      "authorship_tag": "ABX9TyOOn+qoJD2qBmEJaWwXVSwj",
      "include_colab_link": true
    },
    "kernelspec": {
      "name": "python3",
      "display_name": "Python 3"
    },
    "language_info": {
      "name": "python"
    }
  },
  "cells": [
    {
      "cell_type": "markdown",
      "metadata": {
        "id": "view-in-github",
        "colab_type": "text"
      },
      "source": [
        "<a href=\"https://colab.research.google.com/github/Vidya212/nlp-tasks/blob/main/Copy_of_nlptask6.ipynb\" target=\"_parent\"><img src=\"https://colab.research.google.com/assets/colab-badge.svg\" alt=\"Open In Colab\"/></a>"
      ]
    },
    {
      "cell_type": "code",
      "source": [
        "from nltk.util import ngrams\n",
        "from nltk.lm import Laplace\n",
        "from nltk.tokenize import word_tokenize\n",
        "from nltk.lm.preprocessing import padded_everygram_pipeline\n",
        "\n",
        "def ngram_smoothing(sentence, n):\n",
        "    tokens = word_tokenize(sentence.lower())\n",
        "    # Prepare training data: list of tokenized sentences\n",
        "    train_data, padded_sents = padded_everygram_pipeline(n, [tokens])\n",
        "\n",
        "    model = Laplace(n)\n",
        "    model.fit(train_data, padded_sents)\n",
        "    return model, tokens\n",
        "\n",
        "sentence = input(\"Enter a sentence: \")\n",
        "n = int(input(\"Enter the value of N for N-grams: \"))\n",
        "\n",
        "model, tokens = ngram_smoothing(sentence, n)\n",
        "\n",
        "# Prepare context: last n-1 tokens\n",
        "if n > 1:\n",
        "    context = tuple(tokens[-(n-1):])\n",
        "else:\n",
        "    context = ()\n",
        "\n",
        "# Generate next 3 words\n",
        "next_words = model.generate(3, text_seed=context)\n",
        "\n",
        "print(\"Next words:\", ' '.join(next_words))\n"
      ],
      "metadata": {
        "colab": {
          "base_uri": "https://localhost:8080/"
        },
        "id": "BRWkyWrBdtMs",
        "outputId": "2fd78235-43e1-443a-90ce-0f57f89cbf18"
      },
      "execution_count": null,
      "outputs": [
        {
          "output_type": "stream",
          "name": "stdout",
          "text": [
            "Enter a sentence: this is a sample code\n",
            "Enter the value of N for N-grams: 5\n",
            "Next words: </s> </s> </s>\n"
          ]
        }
      ]
    }
  ]
}