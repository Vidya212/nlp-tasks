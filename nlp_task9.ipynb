{
  "nbformat": 4,
  "nbformat_minor": 0,
  "metadata": {
    "colab": {
      "provenance": [],
      "authorship_tag": "ABX9TyMQ4wLgqxkyXU35ksSNW5cK",
      "include_colab_link": true
    },
    "kernelspec": {
      "name": "python3",
      "display_name": "Python 3"
    },
    "language_info": {
      "name": "python"
    }
  },
  "cells": [
    {
      "cell_type": "markdown",
      "metadata": {
        "id": "view-in-github",
        "colab_type": "text"
      },
      "source": [
        "<a href=\"https://colab.research.google.com/github/Vidya212/nlp-tasks/blob/main/nlp_task9.ipynb\" target=\"_parent\"><img src=\"https://colab.research.google.com/assets/colab-badge.svg\" alt=\"Open In Colab\"/></a>"
      ]
    },
    {
      "cell_type": "code",
      "execution_count": 3,
      "metadata": {
        "colab": {
          "base_uri": "https://localhost:8080/"
        },
        "id": "fgCc1Hb-tNmd",
        "outputId": "d71c05aa-dbba-44cb-887a-ad71097a766e"
      },
      "outputs": [
        {
          "output_type": "stream",
          "name": "stdout",
          "text": [
            "--- Performance Comparison ---\n",
            "Input Sentence: 'The quick brown fox jumps over the lazy dog.'\n",
            "\n",
            "Pseudo Gold Standard (Perceptron Tags): ['DT', 'JJ', 'NN', 'NN', 'VBZ', 'IN', 'DT', 'JJ', 'NN', '.']\n",
            "HMM Predicted Tags:                    ['AT', 'JJ', 'TO', 'BE', 'VBN', 'IN', 'AT', 'JJ', 'NN', '.']\n",
            "\n",
            "HMM Accuracy (vs Perceptron):        0.5\n",
            "Perceptron Accuracy (vs itself):     1.0\n",
            "\n",
            "--- Detailed Tagging Results ---\n",
            "Word\t\tHMM Tag\t\tPerceptron Tag\n",
            "----------------------------------------\n",
            "The            AT             DT             !\n",
            "quick          JJ             JJ             \n",
            "brown          TO             NN             !\n",
            "fox            BE             NN             !\n",
            "jumps          VBN            VBZ            !\n",
            "over           IN             IN             \n",
            "the            AT             DT             !\n",
            "lazy           JJ             JJ             \n",
            "dog            NN             NN             \n",
            ".              .              .              \n"
          ]
        }
      ],
      "source": [
        "import nltk\n",
        "from nltk.corpus import brown\n",
        "from nltk.tag import HiddenMarkovModelTagger, PerceptronTagger\n",
        "from sklearn.metrics import accuracy_score\n",
        "nltk.download('punkt', quiet=True)\n",
        "nltk.download('punkt_tab', quiet=True) # Added this line\n",
        "nltk.download('averaged_perceptron_tagger_eng', quiet=True)\n",
        "nltk.download('brown', quiet=True)\n",
        "perceptron_tagger = PerceptronTagger()\n",
        "train_data = brown.tagged_sents(categories='news')[:1000]\n",
        "hmm_tagger = HiddenMarkovModelTagger.train(train_data)\n",
        "def perceptron_pos_tagger(sentence):\n",
        "    tokens = nltk.word_tokenize(sentence)\n",
        "    tagged = perceptron_tagger.tag(tokens)\n",
        "    return tagged\n",
        "def hmm_pos_tagger(sentence):\n",
        "    tokens = nltk.word_tokenize(sentence)\n",
        "    tagged = hmm_tagger.tag(tokens)\n",
        "    return tagged\n",
        "def compare_performance(sentence):\n",
        "    hmm_result = hmm_pos_tagger(sentence)\n",
        "    perceptron_result = perceptron_pos_tagger(sentence)\n",
        "    gold_standard_tags = [tag for _, tag in perceptron_result]\n",
        "    hmm_predicted_tags = [tag for _, tag in hmm_result]\n",
        "    perceptron_predicted_tags = [tag for _, tag in perceptron_result]\n",
        "    hmm_accuracy = accuracy_score(gold_standard_tags, hmm_predicted_tags)\n",
        "    perceptron_accuracy = accuracy_score(gold_standard_tags, perceptron_predicted_tags)\n",
        "    print(\"--- Performance Comparison ---\")\n",
        "    print(f\"Input Sentence: '{sentence}'\\n\")\n",
        "    print(\"Pseudo Gold Standard (Perceptron Tags):\", gold_standard_tags)\n",
        "    print(\"HMM Predicted Tags:                   \", hmm_predicted_tags)\n",
        "    print(\"\\nHMM Accuracy (vs Perceptron):       \", round(hmm_accuracy, 4))\n",
        "    print(\"Perceptron Accuracy (vs itself):    \", round(perceptron_accuracy, 4))\n",
        "    print(\"\\n--- Detailed Tagging Results ---\")\n",
        "    print(\"Word\\t\\tHMM Tag\\t\\tPerceptron Tag\")\n",
        "    print(\"-\" * 40)\n",
        "    for (word, p_tag), (_, h_tag) in zip(perceptron_result, hmm_result):\n",
        "        marker = '!' if p_tag != h_tag else ''\n",
        "        print(f\"{word:<15}{h_tag:<15}{p_tag:<15}{marker}\")\n",
        "input_text = \"The quick brown fox jumps over the lazy dog.\"\n",
        "compare_performance(input_text)"
      ]
    }
  ]
}