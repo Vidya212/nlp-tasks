{
  "nbformat": 4,
  "nbformat_minor": 0,
  "metadata": {
    "colab": {
      "provenance": [],
      "authorship_tag": "ABX9TyMA064+BJ/65hPrLROA5l6i",
      "include_colab_link": true
    },
    "kernelspec": {
      "name": "python3",
      "display_name": "Python 3"
    },
    "language_info": {
      "name": "python"
    }
  },
  "cells": [
    {
      "cell_type": "markdown",
      "metadata": {
        "id": "view-in-github",
        "colab_type": "text"
      },
      "source": [
        "<a href=\"https://colab.research.google.com/github/Vidya212/nlp-tasks/blob/main/task8_nlp.ipynb\" target=\"_parent\"><img src=\"https://colab.research.google.com/assets/colab-badge.svg\" alt=\"Open In Colab\"/></a>"
      ]
    },
    {
      "cell_type": "code",
      "source": [
        "import nltk\n",
        "from nltk.corpus import treebank\n",
        "from nltk.tag import hmm\n",
        "from nltk.classify import MaxentClassifier\n",
        "nltk.download('maxent_treebank_pos_tagger')\n",
        "from nltk.tag import PerceptronTagger, StanfordTagger\n",
        "nltk.download('treebank')\n",
        "nltk.download('maxent_ne_chunker')\n",
        "nltk.download('words')\n",
        "nltk.download('averaged_perceptron_tagger')\n",
        "corpus = list(treebank.tagged_sents())\n",
        "train_data = corpus[:int(0.8 * len(corpus))]\n",
        "test_data = corpus[int(0.8 * len(corpus)):]\n",
        "hmm_tagger = hmm.HiddenMarkovModelTrainer().train(train_data)\n",
        "hmm_accuracy = hmm_tagger.evaluate(test_data)\n",
        "print(f\"HMM Tagger Accuracy: {hmm_accuracy:.4f}\")"
      ],
      "metadata": {
        "colab": {
          "base_uri": "https://localhost:8080/"
        },
        "id": "5MV56lcHcGj-",
        "outputId": "fae9763d-e93f-441c-b20c-bc399e6aa15a"
      },
      "execution_count": null,
      "outputs": [
        {
          "output_type": "stream",
          "name": "stderr",
          "text": [
            "[nltk_data] Downloading package maxent_treebank_pos_tagger to\n",
            "[nltk_data]     /root/nltk_data...\n",
            "[nltk_data]   Package maxent_treebank_pos_tagger is already up-to-\n",
            "[nltk_data]       date!\n",
            "[nltk_data] Downloading package treebank to /root/nltk_data...\n",
            "[nltk_data]   Package treebank is already up-to-date!\n",
            "[nltk_data] Downloading package maxent_ne_chunker to\n",
            "[nltk_data]     /root/nltk_data...\n",
            "[nltk_data]   Package maxent_ne_chunker is already up-to-date!\n",
            "[nltk_data] Downloading package words to /root/nltk_data...\n",
            "[nltk_data]   Package words is already up-to-date!\n",
            "[nltk_data] Downloading package averaged_perceptron_tagger to\n",
            "[nltk_data]     /root/nltk_data...\n",
            "[nltk_data]   Package averaged_perceptron_tagger is already up-to-\n",
            "[nltk_data]       date!\n",
            "/tmp/ipython-input-3128377115.py:15: DeprecationWarning: \n",
            "  Function evaluate() has been deprecated.  Use accuracy(gold)\n",
            "  instead.\n",
            "  hmm_accuracy = hmm_tagger.evaluate(test_data)\n"
          ]
        },
        {
          "output_type": "stream",
          "name": "stdout",
          "text": [
            "HMM Tagger Accuracy: 0.3647\n"
          ]
        }
      ]
    },
    {
      "cell_type": "code",
      "source": [
        "# First, install nltk in your shell/terminal (NOT inside Python script):\n",
        "# pip install -U nltk\n",
        "\n",
        "import nltk\n",
        "from nltk.corpus import treebank\n",
        "from nltk.tag import hmm\n",
        "\n",
        "# Download necessary NLTK data once (can run separately)\n",
        "nltk.download('treebank')\n",
        "nltk.download('universal_tagset')  # optional, if you want universal tags\n",
        "\n",
        "# Load the tagged sentences from treebank corpus\n",
        "corpus = list(treebank.tagged_sents())\n",
        "\n",
        "# Split corpus into 80% train and 20% test data\n",
        "train_data = corpus[:int(0.8 * len(corpus))]\n",
        "test_data = corpus[int(0.8 * len(corpus)):]\n",
        "\n",
        "# Train Hidden Markov Model (HMM) tagger on the training data\n",
        "trainer = hmm.HiddenMarkovModelTrainer()\n",
        "hmm_tagger = trainer.train(train_data)\n",
        "\n",
        "# Evaluate tagger on the test data\n",
        "hmm_accuracy = hmm_tagger.evaluate(test_data)\n",
        "\n",
        "print(f\"HMM Tagger Accuracy: {hmm_accuracy:.4f}\")\n"
      ],
      "metadata": {
        "colab": {
          "base_uri": "https://localhost:8080/"
        },
        "id": "joG9NIk_co91",
        "outputId": "e023a832-0423-4844-bc96-05741afb9b97"
      },
      "execution_count": null,
      "outputs": [
        {
          "output_type": "stream",
          "name": "stderr",
          "text": [
            "[nltk_data] Downloading package treebank to /root/nltk_data...\n",
            "[nltk_data]   Package treebank is already up-to-date!\n",
            "[nltk_data] Downloading package universal_tagset to /root/nltk_data...\n",
            "[nltk_data]   Unzipping taggers/universal_tagset.zip.\n",
            "/tmp/ipython-input-3323915329.py:24: DeprecationWarning: \n",
            "  Function evaluate() has been deprecated.  Use accuracy(gold)\n",
            "  instead.\n",
            "  hmm_accuracy = hmm_tagger.evaluate(test_data)\n"
          ]
        },
        {
          "output_type": "stream",
          "name": "stdout",
          "text": [
            "HMM Tagger Accuracy: 0.3647\n"
          ]
        }
      ]
    },
    {
      "cell_type": "code",
      "source": [
        "import nltk\n",
        "from nltk.corpus import treebank\n",
        "from nltk.tag import hmm\n",
        "from nltk.classify import MaxentClassifier\n",
        "from nltk.tag.sequential import ClassifierBasedPOSTagger\n",
        "nltk.download('treebank')\n",
        "nltk.download('universal_tagset')\n",
        "corpus = list(treebank.tagged_sents())\n",
        "train_data = corpus[:int(0.8 * len(corpus))]\n",
        "test_data = corpus[int(0.8 * len(corpus)):]\n",
        "trainer = hmm.HiddenMarkovModelTrainer()\n",
        "hmm_tagger = trainer.train(train_data)\n",
        "hmm_accuracy = hmm_tagger.evaluate(test_data)\n",
        "class MaxEntPOSTagger(ClassifierBasedPOSTagger):\n",
        "    def __init__(self, train_data):\n",
        "        self._classifier = MaxentClassifier\n",
        "        super().__init__(train=train_data)\n",
        "\n",
        "maxent_tagger = MaxEntPOSTagger(train_data)\n",
        "maxent_accuracy = maxent_tagger.evaluate(test_data)\n",
        "sentence = \"The quick brown fox jumps over the lazy dog\".split()\n",
        "hmm_prediction = hmm_tagger.tag(sentence)\n",
        "maxent_prediction = maxent_tagger.tag(sentence)\n",
        "print(f\"HMM Tagger Accuracy: {hmm_accuracy:.4f}\")\n",
        "print(f\"Maximum Entropy (Log-Linear) Tagger Accuracy: {maxent_accuracy:.4f}\")\n",
        "print(f\"HMM Prediction: {hmm_prediction}\")\n",
        "print(f\"MaxEnt Prediction: {maxent_prediction}\")\n"
      ],
      "metadata": {
        "colab": {
          "base_uri": "https://localhost:8080/"
        },
        "id": "Ll0W2qBCdBXF",
        "outputId": "1030fbbf-b9c0-4828-e1f4-7db57683975a"
      },
      "execution_count": null,
      "outputs": [
        {
          "output_type": "stream",
          "name": "stderr",
          "text": [
            "[nltk_data] Downloading package treebank to /root/nltk_data...\n",
            "[nltk_data]   Package treebank is already up-to-date!\n",
            "[nltk_data] Downloading package universal_tagset to /root/nltk_data...\n",
            "[nltk_data]   Package universal_tagset is already up-to-date!\n",
            "/tmp/ipython-input-195888549.py:13: DeprecationWarning: \n",
            "  Function evaluate() has been deprecated.  Use accuracy(gold)\n",
            "  instead.\n",
            "  hmm_accuracy = hmm_tagger.evaluate(test_data)\n",
            "/tmp/ipython-input-195888549.py:20: DeprecationWarning: \n",
            "  Function evaluate() has been deprecated.  Use accuracy(gold)\n",
            "  instead.\n",
            "  maxent_accuracy = maxent_tagger.evaluate(test_data)\n"
          ]
        },
        {
          "output_type": "stream",
          "name": "stdout",
          "text": [
            "HMM Tagger Accuracy: 0.3647\n",
            "Maximum Entropy (Log-Linear) Tagger Accuracy: 0.9320\n",
            "HMM Prediction: [('The', 'DT'), ('quick', 'JJ'), ('brown', 'NNP'), ('fox', 'NNP'), ('jumps', 'NNP'), ('over', 'NNP'), ('the', 'NNP'), ('lazy', 'NNP'), ('dog', 'NNP')]\n",
            "MaxEnt Prediction: [('The', 'DT'), ('quick', 'JJ'), ('brown', 'NN'), ('fox', 'WDT'), ('jumps', 'NNS'), ('over', 'IN'), ('the', 'DT'), ('lazy', 'JJ'), ('dog', 'VBG')]\n"
          ]
        }
      ]
    }
  ]
}