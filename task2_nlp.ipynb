{
  "nbformat": 4,
  "nbformat_minor": 0,
  "metadata": {
    "colab": {
      "provenance": [],
      "authorship_tag": "ABX9TyMsNjqx4tjD8OtdYXNQmIx5",
      "include_colab_link": true
    },
    "kernelspec": {
      "name": "python3",
      "display_name": "Python 3"
    },
    "language_info": {
      "name": "python"
    }
  },
  "cells": [
    {
      "cell_type": "markdown",
      "metadata": {
        "id": "view-in-github",
        "colab_type": "text"
      },
      "source": [
        "<a href=\"https://colab.research.google.com/github/Vidya212/nlp-tasks/blob/main/task2_nlp.ipynb\" target=\"_parent\"><img src=\"https://colab.research.google.com/assets/colab-badge.svg\" alt=\"Open In Colab\"/></a>"
      ]
    },
    {
      "cell_type": "code",
      "execution_count": null,
      "metadata": {
        "colab": {
          "base_uri": "https://localhost:8080/"
        },
        "id": "pOD3ge5BDS5L",
        "outputId": "796ebdd3-89eb-4dfd-f8d4-70d142f2c869"
      },
      "outputs": [
        {
          "output_type": "stream",
          "name": "stderr",
          "text": [
            "[nltk_data] Downloading package punkt to /root/nltk_data...\n",
            "[nltk_data]   Package punkt is already up-to-date!\n"
          ]
        },
        {
          "output_type": "stream",
          "name": "stdout",
          "text": [
            "token: ['Tokenization', 'without', 'transformers', 'is', 'straight', 'forward', 'with', 'tools', 'like', 'NLTK', '.']\n",
            "transformers tokens: {'input_ids': tensor([[  101, 19204,  3989,  2302, 19081,  2003,  3442,  2830,  2007,  5906,\n",
            "          2066, 17953,  2102,  2243,  1012,   102]]), 'token_type_ids': tensor([[0, 0, 0, 0, 0, 0, 0, 0, 0, 0, 0, 0, 0, 0, 0, 0]]), 'attention_mask': tensor([[1, 1, 1, 1, 1, 1, 1, 1, 1, 1, 1, 1, 1, 1, 1, 1]])}\n",
            "transformers Tokens[list]: ['[CLS]', 'token', '##ization', 'without', 'transformers', 'is', 'straight', 'forward', 'with', 'tools', 'like', 'nl', '##t', '##k', '.', '[SEP]']\n",
            "Decoded Text: tokenization without transformers is straight forward with tools like nltk.\n"
          ]
        }
      ],
      "source": [
        "import nltk\n",
        "from nltk.tokenize import word_tokenize\n",
        "nltk.download('punkt')\n",
        "text = \"Tokenization without transformers is straight forward with tools like NLTK.\"\n",
        "tokens  = word_tokenize(text)\n",
        "print(\"token:\",tokens)\n",
        "from transformers import AutoTokenizer\n",
        "tokenizer = AutoTokenizer.from_pretrained(\"bert-base-uncased\")\n",
        "text = \"Tokenization without transformers is straight forward with tools like NLTK.\"\n",
        "tokens_transformers = tokenizer(text,return_tensors=\"pt\")\n",
        "print(\"transformers tokens:\",tokens_transformers)\n",
        "tokens_transformers_list = tokenizer.convert_ids_to_tokens(tokens_transformers[\"input_ids\"][0].numpy().tolist())\n",
        "print(\"transformers Tokens[list]:\",tokens_transformers_list)\n",
        "decoded_text = tokenizer.decode(tokens_transformers[\"input_ids\"][0], skip_special_tokens = True)\n",
        "print(\"Decoded Text:\",decoded_text)"
      ]
    }
  ]
}