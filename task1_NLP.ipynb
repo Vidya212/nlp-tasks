{
  "nbformat": 4,
  "nbformat_minor": 0,
  "metadata": {
    "colab": {
      "provenance": [],
      "authorship_tag": "ABX9TyMi9mRbikrLCtWmJvDbKk7z",
      "include_colab_link": true
    },
    "kernelspec": {
      "name": "python3",
      "display_name": "Python 3"
    },
    "language_info": {
      "name": "python"
    }
  },
  "cells": [
    {
      "cell_type": "markdown",
      "metadata": {
        "id": "view-in-github",
        "colab_type": "text"
      },
      "source": [
        "<a href=\"https://colab.research.google.com/github/Vidya212/nlp-tasks/blob/main/task1_NLP.ipynb\" target=\"_parent\"><img src=\"https://colab.research.google.com/assets/colab-badge.svg\" alt=\"Open In Colab\"/></a>"
      ]
    },
    {
      "cell_type": "code",
      "execution_count": null,
      "metadata": {
        "colab": {
          "base_uri": "https://localhost:8080/"
        },
        "id": "W9DdnVhu5FVy",
        "outputId": "c64e5ed3-a719-4683-d434-73615a950e6e"
      },
      "outputs": [
        {
          "output_type": "stream",
          "name": "stdout",
          "text": [
            "Match found: abc\n",
            "Character found: H\n",
            "Vowel found: e\n",
            "Social Security Number: 123-45-6789\n",
            "Dot found: .\n",
            "Day: 01\n",
            "Month: 09\n",
            "Year: 2024\n",
            "Animal found: cat\n"
          ]
        }
      ],
      "source": [
        "import re\n",
        "\n",
        "# Match a pattern at the beginning of the string\n",
        "pattern1 = re.compile(r'abc')\n",
        "result1 = pattern1.match('abcdef')\n",
        "if result1:\n",
        "    print(\"Match found:\", result1.group())\n",
        "\n",
        "\"\"\"\n",
        "Metacharacters: Special characters with a specific meaning in regular expressions.\n",
        "Some common metacharacters include:\n",
        ". (dot): Matches any character except a newline.\n",
        "*: Matches zero or more occurrences of the preceding character or group.\n",
        "+: Matches one or more occurrences of the preceding character or group.\n",
        "?: Matches zero or one occurrence of the preceding character or group.\n",
        "^: Anchors the match at the beginning of the string.\n",
        "$: Anchors the match at the end of the string.\n",
        "\n",
        "Character Classes: A set of characters enclosed in square brackets [].\n",
        "It matches any single character from the set. For example, [aeiou] matches any vowel.\n",
        "\"\"\"\n",
        "\n",
        "# . matches any character\n",
        "pattern2 = re.compile(r'.')\n",
        "result2 = pattern2.search('Hello')\n",
        "if result2:\n",
        "    print(\"Character found:\", result2.group())\n",
        "\n",
        "# [aeiou] matches any vowel\n",
        "pattern3 = re.compile(r'[aeiou]')\n",
        "result3 = pattern3.search('Hello')\n",
        "if result3:\n",
        "    print(\"Vowel found:\", result3.group())\n",
        "\n",
        "\"\"\"\n",
        "Quantifiers: Specify the number of occurrences of a character or group.\n",
        "{n}: Matches exactly n occurrences.\n",
        "{n,}: Matches n or more occurrences.\n",
        "{n,m}: Matches between n and m occurrences.\n",
        "\"\"\"\n",
        "\n",
        "# Matches SSN format like 123-45-6789\n",
        "pattern4 = re.compile(r'\\d{3}-\\d{2}-\\d{4}')\n",
        "result4 = pattern4.match('123-45-6789')\n",
        "if result4:\n",
        "    print(\"Social Security Number:\", result4.group())\n",
        "\n",
        "# Matches a literal dot using \\.\n",
        "pattern5 = re.compile(r'\\.')\n",
        "result5 = pattern5.search('www.example.com')\n",
        "if result5:\n",
        "    print(\"Dot found:\", result5.group())\n",
        "\n",
        "# Extracts day/month/year using groups\n",
        "pattern6 = re.compile(r'(\\d{2})/(\\d{2})/(\\d{4})')\n",
        "result6 = pattern6.match('01/09/2024')\n",
        "if result6:\n",
        "    print(\"Day:\", result6.group(1))\n",
        "    print(\"Month:\", result6.group(2))\n",
        "    print(\"Year:\", result6.group(3))\n",
        "\n",
        "\"\"\"\n",
        "Alternation: The pipe | symbol is used for alternation,\n",
        "allowing you to match either the pattern on the left or the one on the right.\n",
        "Example: cat|dog - Matches either \"cat\" or \"dog.\"\n",
        "\"\"\"\n",
        "\n",
        "# Match either 'cat' or 'dog'\n",
        "pattern7 = re.compile(r'cat|dog')\n",
        "result7 = pattern7.search('I have a cat and a dog')\n",
        "if result7:\n",
        "    print(\"Animal found:\", result7.group())\n"
      ]
    }
  ]
}